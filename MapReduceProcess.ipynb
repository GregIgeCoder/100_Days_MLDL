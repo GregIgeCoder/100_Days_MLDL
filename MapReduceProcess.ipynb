{
  "nbformat": 4,
  "nbformat_minor": 0,
  "metadata": {
    "colab": {
      "provenance": [],
      "authorship_tag": "ABX9TyOWo1AK6Yi/K5DLKdyviiVw",
      "include_colab_link": true
    },
    "kernelspec": {
      "name": "python3",
      "display_name": "Python 3"
    },
    "language_info": {
      "name": "python"
    }
  },
  "cells": [
    {
      "cell_type": "markdown",
      "metadata": {
        "id": "view-in-github",
        "colab_type": "text"
      },
      "source": [
        "<a href=\"https://colab.research.google.com/github/GregIgeCoder/100_Days_MLDL/blob/main/MapReduceProcess.ipynb\" target=\"_parent\"><img src=\"https://colab.research.google.com/assets/colab-badge.svg\" alt=\"Open In Colab\"/></a>"
      ]
    },
    {
      "cell_type": "code",
      "execution_count": 1,
      "metadata": {
        "id": "QBzJj6IUtJdB"
      },
      "outputs": [],
      "source": [
        "def double_everything_in(data):\n",
        "  result = []\n",
        "  for i in data:\n",
        "    result.append(2*i)\n",
        "  return result"
      ]
    },
    {
      "cell_type": "code",
      "source": [
        "def quadruple_everything_in(data):\n",
        "  result = []\n",
        "  for i in data:\n",
        "    result.append(4*i)\n",
        "  return result"
      ],
      "metadata": {
        "id": "1BLv42yGu4v7"
      },
      "execution_count": 2,
      "outputs": []
    },
    {
      "cell_type": "code",
      "source": [
        "double_everything_in([1,2,3])"
      ],
      "metadata": {
        "colab": {
          "base_uri": "https://localhost:8080/"
        },
        "id": "P7GeI0Aiw5ho",
        "outputId": "1ab433c9-1327-43dc-ac3e-14c4b647488d"
      },
      "execution_count": 3,
      "outputs": [
        {
          "output_type": "execute_result",
          "data": {
            "text/plain": [
              "[2, 4, 6]"
            ]
          },
          "metadata": {},
          "execution_count": 3
        }
      ]
    },
    {
      "cell_type": "code",
      "source": [
        "quadruple_everything_in([1,2,3])"
      ],
      "metadata": {
        "colab": {
          "base_uri": "https://localhost:8080/"
        },
        "id": "s9Y_-2osxBop",
        "outputId": "da622d79-e240-4374-f1d2-bdad789b7b55"
      },
      "execution_count": 4,
      "outputs": [
        {
          "output_type": "execute_result",
          "data": {
            "text/plain": [
              "[4, 8, 12]"
            ]
          },
          "metadata": {},
          "execution_count": 4
        }
      ]
    },
    {
      "cell_type": "code",
      "source": [
        "def multiply_everything_in(data, factor):\n",
        "    return [factor * i for i in data]\n",
        "\n",
        "# Usage\n",
        "double_result = multiply_everything_in([1, 2, 3], 2)\n",
        "quadruple_result = multiply_everything_in([1, 2, 3], 4)\n",
        "\n",
        "print(double_result)   # Output: [2, 4, 6]\n",
        "print(quadruple_result) # Output: [4, 8, 12]"
      ],
      "metadata": {
        "colab": {
          "base_uri": "https://localhost:8080/"
        },
        "id": "PV-DCOAewnl7",
        "outputId": "0c9ebdb3-048e-4308-8b53-940782d14075"
      },
      "execution_count": 5,
      "outputs": [
        {
          "output_type": "stream",
          "name": "stdout",
          "text": [
            "[2, 4, 6]\n",
            "[4, 8, 12]\n"
          ]
        }
      ]
    },
    {
      "cell_type": "code",
      "source": [
        "#Functional programming improved format\n",
        "def multiply_everything_by_X_in(x,data):\n",
        "  result = []\n",
        "  for i in data:\n",
        "    result.append(x*i)\n",
        "  return result\n"
      ],
      "metadata": {
        "id": "Khzb9bM0wyME"
      },
      "execution_count": 6,
      "outputs": []
    },
    {
      "cell_type": "code",
      "source": [
        "def multiply_everything_by_X_in(2,[1,2,3,4,5]):\n",
        ""
      ],
      "metadata": {
        "colab": {
          "base_uri": "https://localhost:8080/",
          "height": 108
        },
        "id": "9AxNdiavx_P3",
        "outputId": "b5cb2b6e-01ca-499e-f4c7-b7732d388609"
      },
      "execution_count": 7,
      "outputs": [
        {
          "output_type": "error",
          "ename": "SyntaxError",
          "evalue": "invalid syntax (<ipython-input-7-0ff5b2670733>, line 1)",
          "traceback": [
            "\u001b[0;36m  File \u001b[0;32m\"<ipython-input-7-0ff5b2670733>\"\u001b[0;36m, line \u001b[0;32m1\u001b[0m\n\u001b[0;31m    def multiply_everything_by_X_in(2,[1,2,3,4,5]):\u001b[0m\n\u001b[0m                                    ^\u001b[0m\n\u001b[0;31mSyntaxError\u001b[0m\u001b[0;31m:\u001b[0m invalid syntax\n"
          ]
        }
      ]
    },
    {
      "cell_type": "code",
      "source": [
        "def double(x):\n",
        "  return x*x"
      ],
      "metadata": {
        "id": "WfHTYQIHygH2"
      },
      "execution_count": null,
      "outputs": []
    },
    {
      "cell_type": "code",
      "source": [],
      "metadata": {
        "id": "c5viZiUIy6j6"
      },
      "execution_count": null,
      "outputs": []
    },
    {
      "cell_type": "code",
      "source": [
        "def double(x):\n",
        "  return 2*x"
      ],
      "metadata": {
        "id": "GGkySOLIzFZX"
      },
      "execution_count": null,
      "outputs": []
    },
    {
      "cell_type": "code",
      "source": [],
      "metadata": {
        "id": "Ka8D3lNVzl7u"
      },
      "execution_count": null,
      "outputs": []
    },
    {
      "cell_type": "code",
      "source": [
        "def square_everything_in(data):\n",
        "  result[]\n",
        "  for i in data:\n",
        "    result.append(squared(i))\n",
        "  return result"
      ],
      "metadata": {
        "id": "cdFnCyhmzJzM"
      },
      "execution_count": null,
      "outputs": []
    },
    {
      "cell_type": "code",
      "source": [],
      "metadata": {
        "id": "ujFyHWcoznR5"
      },
      "execution_count": null,
      "outputs": []
    },
    {
      "cell_type": "code",
      "source": [
        "def square_everything_in(data):\n",
        "  result[]\n",
        "  for i in data:\n",
        "    result.append(double(i))\n",
        "  return result"
      ],
      "metadata": {
        "id": "9T4S_lDEzoFO"
      },
      "execution_count": null,
      "outputs": []
    },
    {
      "cell_type": "code",
      "source": [
        "def apply_f_to_everything_in(f,data):\n",
        "  result[]\n",
        "  for i in data:\n",
        "    result.append(f(i))\n",
        "  return result"
      ],
      "metadata": {
        "id": "RdNQox2K0AQ1"
      },
      "execution_count": null,
      "outputs": []
    },
    {
      "cell_type": "code",
      "source": [
        "apply_f_to_everyting_in(double,[])"
      ],
      "metadata": {
        "id": "kBt3SF9y0Slf"
      },
      "execution_count": null,
      "outputs": []
    },
    {
      "source": [
        "def apply_f_to_everything_in(f,data):\n",
        "  result = [] # Changed result[] to result = [] to initialize an empty list\n",
        "  for i in data:\n",
        "    result.append(f(i))\n",
        "  return result\n",
        "\n",
        "apply_f_to_everything_in(lambda x: 2*x,[1,2,3,4,5]) # This should now work"
      ],
      "cell_type": "code",
      "metadata": {
        "id": "qGvimiaw1hFz"
      },
      "execution_count": null,
      "outputs": []
    },
    {
      "cell_type": "code",
      "source": [
        "list(map(lambda x:2*x, [1,2,3,4,5]))"
      ],
      "metadata": {
        "id": "qsY-K-6J1lR-"
      },
      "execution_count": null,
      "outputs": []
    },
    {
      "cell_type": "code",
      "source": [
        "def foldI(f, data, z):\n",
        "  if(len(data) == 0):\n",
        "    return z\n",
        "  else:\n",
        "    head = data[0]\n",
        "    tail = data[1:]\n",
        "    print(\"Folding\", head, \"with\", tail, \"using\", z)\n",
        "    partial_result = f(z,data[0])\n",
        "    print(\"Partial result is\", partial_result)\n",
        "    return foldI(f,tail,partial_result)"
      ],
      "metadata": {
        "id": "yV1dHq1v6dEy"
      },
      "execution_count": null,
      "outputs": []
    },
    {
      "cell_type": "code",
      "source": [
        "def add(x,y):\n",
        "  return x+y"
      ],
      "metadata": {
        "id": "PcyexB7E7rDd"
      },
      "execution_count": null,
      "outputs": []
    },
    {
      "cell_type": "code",
      "source": [
        "foldI(lambda x, y: x - y, [1, 2, 3, 3, 5], 0)"
      ],
      "metadata": {
        "id": "cdLseyz69z50"
      },
      "execution_count": null,
      "outputs": []
    },
    {
      "source": [
        "from functools import reduce\n",
        "reduce(lambda x,y: x-y, [1,2,3,4,5],0) # Removed the extra indentation before reduce"
      ],
      "cell_type": "code",
      "metadata": {
        "id": "kgPezANb__L6"
      },
      "execution_count": null,
      "outputs": []
    },
    {
      "cell_type": "code",
      "source": [
        "def my_map(f, data):\n",
        "  result = [None]*len(data)\n",
        "  for i in range(len(data)):\n",
        "    perform_computation(f, result, data, i)\n",
        "  return result"
      ],
      "metadata": {
        "id": "Z-uHETMCAItk"
      },
      "execution_count": null,
      "outputs": []
    },
    {
      "cell_type": "code",
      "source": [
        "my_map(lambda x:x*x, [1,2,3,4,5])"
      ],
      "metadata": {
        "id": "zPcAIavUBYCT"
      },
      "execution_count": null,
      "outputs": []
    },
    {
      "source": [
        "def my_map(f, data):\n",
        "  result = [None]*len(data)\n",
        "  for i in range(len(data)):\n",
        "    # Define the logic for perform_computation here\n",
        "    result[i] = f(data[i])  # Apply the function f to the current data element\n",
        "  return result\n",
        "\n",
        "my_map(lambda x: x*x, [1,2,3,4,5])"
      ],
      "cell_type": "code",
      "metadata": {
        "id": "Mle22VjrBFbO"
      },
      "execution_count": null,
      "outputs": []
    },
    {
      "cell_type": "code",
      "source": [
        "##Map Reduce Process\n",
        "from functools import reduce\n",
        "\n",
        "# Sample input\n",
        "data = [\"apple orange banana\", \"apple banana orange apple\"]\n",
        "\n",
        "# Step 1: Mapping (Convert input to key-value pairs)\n",
        "mapped_data = [word for line in data for word in line.split()]\n",
        "mapped_data = [(word, 1) for word in mapped_data]\n",
        "\n",
        "# Step 2: Shuffling & Sorting (Group by key)\n",
        "shuffled_data = {}\n",
        "for key, value in mapped_data:\n",
        "    shuffled_data.setdefault(key, []).append(value)\n",
        "\n",
        "# Step 3: Reducing (Sum values for each key)\n",
        "reduced_data = {key: reduce(lambda a, b: a + b, values) for key, values in shuffled_data.items()}\n",
        "\n",
        "# Final Output\n",
        "print(reduced_data)"
      ],
      "metadata": {
        "id": "93B3sNGKCNLF"
      },
      "execution_count": null,
      "outputs": []
    },
    {
      "cell_type": "code",
      "source": [
        "from functools import reduce\n",
        "data = [\"to be or not to be\"]\n"
      ],
      "metadata": {
        "id": "Wjb_rQTVCw8N"
      },
      "execution_count": null,
      "outputs": []
    },
    {
      "cell_type": "code",
      "source": [
        "from functools import reduce\n",
        "\n",
        "# Input data\n",
        "data = [\"to be or not to be\"]\n",
        "\n",
        "# Step 1: Mapping - Convert sentence into (word, 1) pairs\n",
        "mapped_data = [(word, 1) for sentence in data for word in sentence.split()]\n",
        "\n",
        "# Step 2: Shuffling & Sorting - Group values by key\n",
        "shuffled_data = {}\n",
        "for key, value in mapped_data:\n",
        "    shuffled_data.setdefault(key, []).append(value)\n",
        "\n",
        "# Step 3: Reducing - Sum up occurrences of each word\n",
        "reduced_data = {key: reduce(lambda a, b: a + b, values) for key, values in shuffled_data.items()}\n",
        "\n",
        "# Final Output\n",
        "print(reduced_data)"
      ],
      "metadata": {
        "id": "d4uoxaP4Dyj4"
      },
      "execution_count": null,
      "outputs": []
    },
    {
      "cell_type": "code",
      "source": [
        "\n",
        "def groupByKey(data):\n",
        "  result = dict()\n",
        "  for key, value in data:\n",
        "    if key not in result:\n",
        "      result[key] = [value]\n",
        "    else:\n",
        "      result[key].append(value)\n",
        "  return result"
      ],
      "metadata": {
        "id": "3K_7ya2bEZSO"
      },
      "execution_count": null,
      "outputs": []
    },
    {
      "cell_type": "code",
      "source": [
        "def reduceByKey(data, f):\n",
        "  result = dict()\n",
        "def reduceByKey(data, f):\n",
        "  result = dict()\n",
        "  key_values = groupByKey(data)\n",
        "  return map(lambda key: (key, reduce(f, key_values[key])), key_values.keys())"
      ],
      "metadata": {
        "id": "0bhj7QryFkZn"
      },
      "execution_count": null,
      "outputs": []
    },
    {
      "cell_type": "code",
      "source": [
        "data = map(lambda x: (x, 1), \"to be or not to be\".split())\n",
        "list(data)"
      ],
      "metadata": {
        "id": "m6waAXl-H7yM"
      },
      "execution_count": null,
      "outputs": []
    },
    {
      "source": [
        "groupByKey(data)"
      ],
      "cell_type": "code",
      "metadata": {
        "id": "dSYqi9B9KOPa"
      },
      "execution_count": null,
      "outputs": []
    },
    {
      "source": [
        "list(reduceByKey(lambda x, y: x + y,(data)))"
      ],
      "cell_type": "code",
      "metadata": {
        "id": "Np9DqoLzLfyo"
      },
      "execution_count": null,
      "outputs": []
    }
  ]
}